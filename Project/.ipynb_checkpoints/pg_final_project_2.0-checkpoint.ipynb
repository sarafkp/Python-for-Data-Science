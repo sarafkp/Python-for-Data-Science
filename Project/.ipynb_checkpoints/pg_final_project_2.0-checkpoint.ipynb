{
 "cells": [
  {
   "cell_type": "markdown",
   "metadata": {},
   "source": [
    "#### Data Source : https://www.kaggle.com/lava18/google-play-store-apps#googleplaystore_user_reviews.csv"
   ]
  },
  {
   "cell_type": "code",
   "execution_count": 308,
   "metadata": {},
   "outputs": [],
   "source": [
    "import pandas as pd\n",
    "import matplotlib.pyplot as plt\n",
    "import seaborn as sns\n",
    "import math\n",
    "from sklearn.linear_model import LogisticRegression\n",
    "from sklearn.model_selection import train_test_split\n",
    "from sklearn.metrics import roc_auc_score"
   ]
  },
  {
   "cell_type": "code",
   "execution_count": 410,
   "metadata": {},
   "outputs": [],
   "source": [
    "import numpy as np\n",
    "import matplotlib.pyplot as plt\n",
    "import seaborn as sns\n",
    "%matplotlib inline\n",
    "from sklearn import metrics"
   ]
  },
  {
   "cell_type": "markdown",
   "metadata": {},
   "source": [
    "# Importing Datasets"
   ]
  },
  {
   "cell_type": "code",
   "execution_count": 161,
   "metadata": {},
   "outputs": [],
   "source": [
    "playstore_df = pd.read_csv('googleplaystore.csv')\n",
    "\n",
    "playstore_user_reviews_df = pd.read_csv('googleplaystore_user_reviews.csv')"
   ]
  },
  {
   "cell_type": "code",
   "execution_count": 484,
   "metadata": {},
   "outputs": [],
   "source": [
    "# Investigate the size of dataset"
   ]
  },
  {
   "cell_type": "code",
   "execution_count": 162,
   "metadata": {},
   "outputs": [
    {
     "data": {
      "text/plain": [
       "(10840, 13)"
      ]
     },
     "execution_count": 162,
     "metadata": {},
     "output_type": "execute_result"
    }
   ],
   "source": [
    "playstore_df.shape"
   ]
  },
  {
   "cell_type": "code",
   "execution_count": 485,
   "metadata": {},
   "outputs": [],
   "source": [
    "# Taking a glimpse of the dataset"
   ]
  },
  {
   "cell_type": "code",
   "execution_count": 163,
   "metadata": {},
   "outputs": [
    {
     "data": {
      "text/html": [
       "<div>\n",
       "<style scoped>\n",
       "    .dataframe tbody tr th:only-of-type {\n",
       "        vertical-align: middle;\n",
       "    }\n",
       "\n",
       "    .dataframe tbody tr th {\n",
       "        vertical-align: top;\n",
       "    }\n",
       "\n",
       "    .dataframe thead th {\n",
       "        text-align: right;\n",
       "    }\n",
       "</style>\n",
       "<table border=\"1\" class=\"dataframe\">\n",
       "  <thead>\n",
       "    <tr style=\"text-align: right;\">\n",
       "      <th></th>\n",
       "      <th>App</th>\n",
       "      <th>Category</th>\n",
       "      <th>Rating</th>\n",
       "      <th>Reviews</th>\n",
       "      <th>Size</th>\n",
       "      <th>Installs</th>\n",
       "      <th>Type</th>\n",
       "      <th>Price</th>\n",
       "      <th>Content Rating</th>\n",
       "      <th>Genres</th>\n",
       "      <th>Last Updated</th>\n",
       "      <th>Current Ver</th>\n",
       "      <th>Android Ver</th>\n",
       "    </tr>\n",
       "  </thead>\n",
       "  <tbody>\n",
       "    <tr>\n",
       "      <th>0</th>\n",
       "      <td>\"i DT\" Fútbol. Todos Somos Técnicos.</td>\n",
       "      <td>SPORTS</td>\n",
       "      <td>nan</td>\n",
       "      <td>27</td>\n",
       "      <td>3.6M</td>\n",
       "      <td>500+</td>\n",
       "      <td>Free</td>\n",
       "      <td>0.000</td>\n",
       "      <td>Everyone</td>\n",
       "      <td>Sports</td>\n",
       "      <td>07-Oct-17</td>\n",
       "      <td>0.22</td>\n",
       "      <td>4.1 and up</td>\n",
       "    </tr>\n",
       "    <tr>\n",
       "      <th>1</th>\n",
       "      <td>.R</td>\n",
       "      <td>TOOLS</td>\n",
       "      <td>4.500</td>\n",
       "      <td>259</td>\n",
       "      <td>203k</td>\n",
       "      <td>10,000+</td>\n",
       "      <td>Free</td>\n",
       "      <td>0.000</td>\n",
       "      <td>Everyone</td>\n",
       "      <td>Tools</td>\n",
       "      <td>16-Sep-14</td>\n",
       "      <td>1.1.06</td>\n",
       "      <td>1.5 and up</td>\n",
       "    </tr>\n",
       "    <tr>\n",
       "      <th>2</th>\n",
       "      <td>/u/app</td>\n",
       "      <td>COMMUNICATION</td>\n",
       "      <td>4.700</td>\n",
       "      <td>573</td>\n",
       "      <td>53M</td>\n",
       "      <td>10,000+</td>\n",
       "      <td>Free</td>\n",
       "      <td>0.000</td>\n",
       "      <td>Mature 17+</td>\n",
       "      <td>Communication</td>\n",
       "      <td>03-Jul-18</td>\n",
       "      <td>4.2.4</td>\n",
       "      <td>4.1 and up</td>\n",
       "    </tr>\n",
       "    <tr>\n",
       "      <th>3</th>\n",
       "      <td>[adult swim]</td>\n",
       "      <td>FAMILY</td>\n",
       "      <td>3.600</td>\n",
       "      <td>21433</td>\n",
       "      <td>21M</td>\n",
       "      <td>1,000,000+</td>\n",
       "      <td>Free</td>\n",
       "      <td>0.000</td>\n",
       "      <td>Mature 17+</td>\n",
       "      <td>Entertainment</td>\n",
       "      <td>29-May-18</td>\n",
       "      <td>3.0.1805181047</td>\n",
       "      <td>5.0 and up</td>\n",
       "    </tr>\n",
       "    <tr>\n",
       "      <th>4</th>\n",
       "      <td>[BN] Blitz</td>\n",
       "      <td>SPORTS</td>\n",
       "      <td>3.200</td>\n",
       "      <td>4</td>\n",
       "      <td>5.6M</td>\n",
       "      <td>100+</td>\n",
       "      <td>Free</td>\n",
       "      <td>0.000</td>\n",
       "      <td>Everyone</td>\n",
       "      <td>Sports</td>\n",
       "      <td>17-May-18</td>\n",
       "      <td>4.6</td>\n",
       "      <td>4.3 and up</td>\n",
       "    </tr>\n",
       "  </tbody>\n",
       "</table>\n",
       "</div>"
      ],
      "text/plain": [
       "                                    App       Category  Rating  Reviews  Size  \\\n",
       "0  \"i DT\" Fútbol. Todos Somos Técnicos.         SPORTS     nan       27  3.6M   \n",
       "1                                    .R          TOOLS   4.500      259  203k   \n",
       "2                                /u/app  COMMUNICATION   4.700      573   53M   \n",
       "3                          [adult swim]         FAMILY   3.600    21433   21M   \n",
       "4                            [BN] Blitz         SPORTS   3.200        4  5.6M   \n",
       "\n",
       "     Installs  Type  Price Content Rating         Genres Last Updated  \\\n",
       "0        500+  Free  0.000       Everyone         Sports    07-Oct-17   \n",
       "1     10,000+  Free  0.000       Everyone          Tools    16-Sep-14   \n",
       "2     10,000+  Free  0.000     Mature 17+  Communication    03-Jul-18   \n",
       "3  1,000,000+  Free  0.000     Mature 17+  Entertainment    29-May-18   \n",
       "4        100+  Free  0.000       Everyone         Sports    17-May-18   \n",
       "\n",
       "      Current Ver Android Ver  \n",
       "0            0.22  4.1 and up  \n",
       "1          1.1.06  1.5 and up  \n",
       "2           4.2.4  4.1 and up  \n",
       "3  3.0.1805181047  5.0 and up  \n",
       "4             4.6  4.3 and up  "
      ]
     },
     "execution_count": 163,
     "metadata": {},
     "output_type": "execute_result"
    }
   ],
   "source": [
    "playstore_df.head()"
   ]
  },
  {
   "cell_type": "code",
   "execution_count": 165,
   "metadata": {},
   "outputs": [
    {
     "data": {
      "text/html": [
       "<div>\n",
       "<style scoped>\n",
       "    .dataframe tbody tr th:only-of-type {\n",
       "        vertical-align: middle;\n",
       "    }\n",
       "\n",
       "    .dataframe tbody tr th {\n",
       "        vertical-align: top;\n",
       "    }\n",
       "\n",
       "    .dataframe thead th {\n",
       "        text-align: right;\n",
       "    }\n",
       "</style>\n",
       "<table border=\"1\" class=\"dataframe\">\n",
       "  <thead>\n",
       "    <tr style=\"text-align: right;\">\n",
       "      <th></th>\n",
       "      <th>App</th>\n",
       "      <th>Translated_Review</th>\n",
       "      <th>Sentiment</th>\n",
       "      <th>Sentiment_Polarity</th>\n",
       "      <th>Sentiment_Subjectivity</th>\n",
       "    </tr>\n",
       "  </thead>\n",
       "  <tbody>\n",
       "    <tr>\n",
       "      <th>0</th>\n",
       "      <td>10 Best Foods for You</td>\n",
       "      <td>I like eat delicious food. That's I'm cooking ...</td>\n",
       "      <td>Positive</td>\n",
       "      <td>1.000</td>\n",
       "      <td>0.533</td>\n",
       "    </tr>\n",
       "    <tr>\n",
       "      <th>1</th>\n",
       "      <td>10 Best Foods for You</td>\n",
       "      <td>This help eating healthy exercise regular basis</td>\n",
       "      <td>Positive</td>\n",
       "      <td>0.250</td>\n",
       "      <td>0.288</td>\n",
       "    </tr>\n",
       "    <tr>\n",
       "      <th>2</th>\n",
       "      <td>10 Best Foods for You</td>\n",
       "      <td>NaN</td>\n",
       "      <td>NaN</td>\n",
       "      <td>nan</td>\n",
       "      <td>nan</td>\n",
       "    </tr>\n",
       "    <tr>\n",
       "      <th>3</th>\n",
       "      <td>10 Best Foods for You</td>\n",
       "      <td>Works great especially going grocery store</td>\n",
       "      <td>Positive</td>\n",
       "      <td>0.400</td>\n",
       "      <td>0.875</td>\n",
       "    </tr>\n",
       "    <tr>\n",
       "      <th>4</th>\n",
       "      <td>10 Best Foods for You</td>\n",
       "      <td>Best idea us</td>\n",
       "      <td>Positive</td>\n",
       "      <td>1.000</td>\n",
       "      <td>0.300</td>\n",
       "    </tr>\n",
       "  </tbody>\n",
       "</table>\n",
       "</div>"
      ],
      "text/plain": [
       "                     App                                  Translated_Review  \\\n",
       "0  10 Best Foods for You  I like eat delicious food. That's I'm cooking ...   \n",
       "1  10 Best Foods for You    This help eating healthy exercise regular basis   \n",
       "2  10 Best Foods for You                                                NaN   \n",
       "3  10 Best Foods for You         Works great especially going grocery store   \n",
       "4  10 Best Foods for You                                       Best idea us   \n",
       "\n",
       "  Sentiment  Sentiment_Polarity  Sentiment_Subjectivity  \n",
       "0  Positive               1.000                   0.533  \n",
       "1  Positive               0.250                   0.288  \n",
       "2       NaN                 nan                     nan  \n",
       "3  Positive               0.400                   0.875  \n",
       "4  Positive               1.000                   0.300  "
      ]
     },
     "execution_count": 165,
     "metadata": {},
     "output_type": "execute_result"
    }
   ],
   "source": [
    "playstore_user_reviews_df.head()"
   ]
  },
  {
   "cell_type": "code",
   "execution_count": 486,
   "metadata": {},
   "outputs": [],
   "source": [
    "# Removing duplicate values from both the datasets"
   ]
  },
  {
   "cell_type": "code",
   "execution_count": 166,
   "metadata": {},
   "outputs": [],
   "source": [
    "playstore_user_reviews_df_1 = playstore_user_reviews_df.drop_duplicates()"
   ]
  },
  {
   "cell_type": "code",
   "execution_count": 167,
   "metadata": {},
   "outputs": [],
   "source": [
    "playstore_df_1 = playstore_df.drop_duplicates()"
   ]
  },
  {
   "cell_type": "code",
   "execution_count": 487,
   "metadata": {},
   "outputs": [],
   "source": [
    "# Reinvestigate the size of dataset"
   ]
  },
  {
   "cell_type": "code",
   "execution_count": 168,
   "metadata": {},
   "outputs": [
    {
     "data": {
      "text/plain": [
       "(30679, 5)"
      ]
     },
     "execution_count": 168,
     "metadata": {},
     "output_type": "execute_result"
    }
   ],
   "source": [
    "playstore_user_reviews_df_1.shape"
   ]
  },
  {
   "cell_type": "code",
   "execution_count": 169,
   "metadata": {},
   "outputs": [
    {
     "data": {
      "text/plain": [
       "(64295, 5)"
      ]
     },
     "execution_count": 169,
     "metadata": {},
     "output_type": "execute_result"
    }
   ],
   "source": [
    "playstore_user_reviews_df.shape"
   ]
  },
  {
   "cell_type": "code",
   "execution_count": 170,
   "metadata": {},
   "outputs": [
    {
     "data": {
      "text/plain": [
       "(10357, 13)"
      ]
     },
     "execution_count": 170,
     "metadata": {},
     "output_type": "execute_result"
    }
   ],
   "source": [
    "playstore_df_1.shape"
   ]
  },
  {
   "cell_type": "code",
   "execution_count": 171,
   "metadata": {},
   "outputs": [
    {
     "data": {
      "text/plain": [
       "(10840, 13)"
      ]
     },
     "execution_count": 171,
     "metadata": {},
     "output_type": "execute_result"
    }
   ],
   "source": [
    "playstore_df.shape"
   ]
  },
  {
   "cell_type": "code",
   "execution_count": 488,
   "metadata": {},
   "outputs": [],
   "source": [
    "# Filter for required columns from the reviews data"
   ]
  },
  {
   "cell_type": "code",
   "execution_count": 174,
   "metadata": {},
   "outputs": [],
   "source": [
    "playstore_user_reviews_df_2 = playstore_user_reviews_df_1[ ['App', 'Sentiment_Polarity'] ]"
   ]
  },
  {
   "cell_type": "code",
   "execution_count": 489,
   "metadata": {},
   "outputs": [],
   "source": [
    "# Remove missing values and investigate shape"
   ]
  },
  {
   "cell_type": "code",
   "execution_count": 175,
   "metadata": {},
   "outputs": [],
   "source": [
    "playstore_user_reviews_df_3 = playstore_user_reviews_df_2.dropna()"
   ]
  },
  {
   "cell_type": "code",
   "execution_count": 176,
   "metadata": {},
   "outputs": [
    {
     "data": {
      "text/plain": [
       "(29697, 2)"
      ]
     },
     "execution_count": 176,
     "metadata": {},
     "output_type": "execute_result"
    }
   ],
   "source": [
    "playstore_user_reviews_df_3.shape"
   ]
  },
  {
   "cell_type": "code",
   "execution_count": 491,
   "metadata": {},
   "outputs": [],
   "source": [
    "# Calculating the average sentiment polarity. This metric will decide if the app has a positive sentiment or not"
   ]
  },
  {
   "cell_type": "markdown",
   "metadata": {},
   "source": [
    "The logic used is if the avg. sentiment is greater than 0, we will consider the review to be positive else we will consider it to be negative sentiment"
   ]
  },
  {
   "cell_type": "code",
   "execution_count": 178,
   "metadata": {},
   "outputs": [],
   "source": [
    "playstore_user_reviews_df_4 = playstore_user_reviews_df_3.groupby('App').agg({'Sentiment_Polarity' : 'mean'})"
   ]
  },
  {
   "cell_type": "code",
   "execution_count": 183,
   "metadata": {},
   "outputs": [],
   "source": [
    "playstore_df_2 = playstore_df_1.drop_duplicates(subset='App', keep=\"last\")"
   ]
  },
  {
   "cell_type": "code",
   "execution_count": 493,
   "metadata": {},
   "outputs": [],
   "source": [
    "# Now  join the two datasets to get the sentiment values and app details together"
   ]
  },
  {
   "cell_type": "code",
   "execution_count": 186,
   "metadata": {},
   "outputs": [],
   "source": [
    "merge_playstore = pd.merge(playstore_df_2, playstore_user_reviews_df_4, on = 'App', how = 'inner')"
   ]
  },
  {
   "cell_type": "code",
   "execution_count": 494,
   "metadata": {},
   "outputs": [],
   "source": [
    "# Convert the scientific notations to decimals"
   ]
  },
  {
   "cell_type": "code",
   "execution_count": 187,
   "metadata": {},
   "outputs": [],
   "source": [
    "pd.set_option('display.float_format', lambda x: '%.3f' % x) #to convert scientific notations to decimals"
   ]
  },
  {
   "cell_type": "code",
   "execution_count": 188,
   "metadata": {},
   "outputs": [
    {
     "data": {
      "text/html": [
       "<div>\n",
       "<style scoped>\n",
       "    .dataframe tbody tr th:only-of-type {\n",
       "        vertical-align: middle;\n",
       "    }\n",
       "\n",
       "    .dataframe tbody tr th {\n",
       "        vertical-align: top;\n",
       "    }\n",
       "\n",
       "    .dataframe thead th {\n",
       "        text-align: right;\n",
       "    }\n",
       "</style>\n",
       "<table border=\"1\" class=\"dataframe\">\n",
       "  <thead>\n",
       "    <tr style=\"text-align: right;\">\n",
       "      <th></th>\n",
       "      <th>App</th>\n",
       "      <th>Category</th>\n",
       "      <th>Rating</th>\n",
       "      <th>Reviews</th>\n",
       "      <th>Size</th>\n",
       "      <th>Installs</th>\n",
       "      <th>Type</th>\n",
       "      <th>Price</th>\n",
       "      <th>Content Rating</th>\n",
       "      <th>Genres</th>\n",
       "      <th>Last Updated</th>\n",
       "      <th>Current Ver</th>\n",
       "      <th>Android Ver</th>\n",
       "      <th>Sentiment_Polarity</th>\n",
       "    </tr>\n",
       "  </thead>\n",
       "  <tbody>\n",
       "    <tr>\n",
       "      <th>0</th>\n",
       "      <td>10 Best Foods for You</td>\n",
       "      <td>HEALTH_AND_FITNESS</td>\n",
       "      <td>4.000</td>\n",
       "      <td>2490</td>\n",
       "      <td>3.8M</td>\n",
       "      <td>500,000+</td>\n",
       "      <td>Free</td>\n",
       "      <td>0.000</td>\n",
       "      <td>Everyone 10+</td>\n",
       "      <td>Health &amp; Fitness</td>\n",
       "      <td>17-Feb-17</td>\n",
       "      <td>1.9</td>\n",
       "      <td>2.3.3 and up</td>\n",
       "      <td>0.466</td>\n",
       "    </tr>\n",
       "    <tr>\n",
       "      <th>1</th>\n",
       "      <td>11st</td>\n",
       "      <td>SHOPPING</td>\n",
       "      <td>3.800</td>\n",
       "      <td>48732</td>\n",
       "      <td>20M</td>\n",
       "      <td>10,000,000+</td>\n",
       "      <td>Free</td>\n",
       "      <td>0.000</td>\n",
       "      <td>Everyone</td>\n",
       "      <td>Shopping</td>\n",
       "      <td>31-Jul-18</td>\n",
       "      <td>7.8.1</td>\n",
       "      <td>4.0 and up</td>\n",
       "      <td>0.181</td>\n",
       "    </tr>\n",
       "    <tr>\n",
       "      <th>2</th>\n",
       "      <td>1800 Contacts - Lens Store</td>\n",
       "      <td>MEDICAL</td>\n",
       "      <td>4.700</td>\n",
       "      <td>23160</td>\n",
       "      <td>26M</td>\n",
       "      <td>1,000,000+</td>\n",
       "      <td>Free</td>\n",
       "      <td>0.000</td>\n",
       "      <td>Everyone</td>\n",
       "      <td>Medical</td>\n",
       "      <td>27-Jul-18</td>\n",
       "      <td>7.4.1</td>\n",
       "      <td>5.0 and up</td>\n",
       "      <td>0.318</td>\n",
       "    </tr>\n",
       "    <tr>\n",
       "      <th>3</th>\n",
       "      <td>1LINE – One Line with One Touch</td>\n",
       "      <td>GAME</td>\n",
       "      <td>4.600</td>\n",
       "      <td>214878</td>\n",
       "      <td>10M</td>\n",
       "      <td>10,000,000+</td>\n",
       "      <td>Free</td>\n",
       "      <td>0.000</td>\n",
       "      <td>Everyone</td>\n",
       "      <td>Board</td>\n",
       "      <td>03-Aug-18</td>\n",
       "      <td>2.0.4</td>\n",
       "      <td>4.1 and up</td>\n",
       "      <td>0.196</td>\n",
       "    </tr>\n",
       "    <tr>\n",
       "      <th>4</th>\n",
       "      <td>2018Emoji Keyboard 😂 Emoticons Lite -sticker&amp;gif</td>\n",
       "      <td>PERSONALIZATION</td>\n",
       "      <td>4.200</td>\n",
       "      <td>115773</td>\n",
       "      <td>Varies with device</td>\n",
       "      <td>10,000,000+</td>\n",
       "      <td>Free</td>\n",
       "      <td>0.000</td>\n",
       "      <td>Everyone</td>\n",
       "      <td>Personalization</td>\n",
       "      <td>22-May-18</td>\n",
       "      <td>Varies with device</td>\n",
       "      <td>4.1 and up</td>\n",
       "      <td>0.424</td>\n",
       "    </tr>\n",
       "  </tbody>\n",
       "</table>\n",
       "</div>"
      ],
      "text/plain": [
       "                                                App            Category  \\\n",
       "0                             10 Best Foods for You  HEALTH_AND_FITNESS   \n",
       "1                                              11st            SHOPPING   \n",
       "2                        1800 Contacts - Lens Store             MEDICAL   \n",
       "3                   1LINE – One Line with One Touch                GAME   \n",
       "4  2018Emoji Keyboard 😂 Emoticons Lite -sticker&gif     PERSONALIZATION   \n",
       "\n",
       "   Rating  Reviews                Size     Installs  Type  Price  \\\n",
       "0   4.000     2490                3.8M     500,000+  Free  0.000   \n",
       "1   3.800    48732                 20M  10,000,000+  Free  0.000   \n",
       "2   4.700    23160                 26M   1,000,000+  Free  0.000   \n",
       "3   4.600   214878                 10M  10,000,000+  Free  0.000   \n",
       "4   4.200   115773  Varies with device  10,000,000+  Free  0.000   \n",
       "\n",
       "  Content Rating            Genres Last Updated         Current Ver  \\\n",
       "0   Everyone 10+  Health & Fitness    17-Feb-17                 1.9   \n",
       "1       Everyone          Shopping    31-Jul-18               7.8.1   \n",
       "2       Everyone           Medical    27-Jul-18               7.4.1   \n",
       "3       Everyone             Board    03-Aug-18               2.0.4   \n",
       "4       Everyone   Personalization    22-May-18  Varies with device   \n",
       "\n",
       "    Android Ver  Sentiment_Polarity  \n",
       "0  2.3.3 and up               0.466  \n",
       "1    4.0 and up               0.181  \n",
       "2    5.0 and up               0.318  \n",
       "3    4.1 and up               0.196  \n",
       "4    4.1 and up               0.424  "
      ]
     },
     "execution_count": 188,
     "metadata": {},
     "output_type": "execute_result"
    }
   ],
   "source": [
    "merge_playstore.head()"
   ]
  },
  {
   "cell_type": "code",
   "execution_count": 495,
   "metadata": {},
   "outputs": [],
   "source": [
    "# Analyze the summary details of the dataset"
   ]
  },
  {
   "cell_type": "code",
   "execution_count": 157,
   "metadata": {},
   "outputs": [
    {
     "data": {
      "text/html": [
       "<div>\n",
       "<style scoped>\n",
       "    .dataframe tbody tr th:only-of-type {\n",
       "        vertical-align: middle;\n",
       "    }\n",
       "\n",
       "    .dataframe tbody tr th {\n",
       "        vertical-align: top;\n",
       "    }\n",
       "\n",
       "    .dataframe thead th {\n",
       "        text-align: right;\n",
       "    }\n",
       "</style>\n",
       "<table border=\"1\" class=\"dataframe\">\n",
       "  <thead>\n",
       "    <tr style=\"text-align: right;\">\n",
       "      <th></th>\n",
       "      <th>Category</th>\n",
       "      <th>Rating</th>\n",
       "    </tr>\n",
       "    <tr>\n",
       "      <th>Category</th>\n",
       "      <th></th>\n",
       "      <th></th>\n",
       "    </tr>\n",
       "  </thead>\n",
       "  <tbody>\n",
       "    <tr>\n",
       "      <th>1.9</th>\n",
       "      <td>1</td>\n",
       "      <td>19.000</td>\n",
       "    </tr>\n",
       "    <tr>\n",
       "      <th>ART_AND_DESIGN</th>\n",
       "      <td>61</td>\n",
       "      <td>4.359</td>\n",
       "    </tr>\n",
       "    <tr>\n",
       "      <th>AUTO_AND_VEHICLES</th>\n",
       "      <td>85</td>\n",
       "      <td>4.190</td>\n",
       "    </tr>\n",
       "    <tr>\n",
       "      <th>BEAUTY</th>\n",
       "      <td>53</td>\n",
       "      <td>4.279</td>\n",
       "    </tr>\n",
       "    <tr>\n",
       "      <th>BOOKS_AND_REFERENCE</th>\n",
       "      <td>222</td>\n",
       "      <td>4.345</td>\n",
       "    </tr>\n",
       "    <tr>\n",
       "      <th>BUSINESS</th>\n",
       "      <td>419</td>\n",
       "      <td>4.097</td>\n",
       "    </tr>\n",
       "    <tr>\n",
       "      <th>COMICS</th>\n",
       "      <td>56</td>\n",
       "      <td>4.181</td>\n",
       "    </tr>\n",
       "    <tr>\n",
       "      <th>COMMUNICATION</th>\n",
       "      <td>316</td>\n",
       "      <td>4.121</td>\n",
       "    </tr>\n",
       "    <tr>\n",
       "      <th>DATING</th>\n",
       "      <td>170</td>\n",
       "      <td>3.980</td>\n",
       "    </tr>\n",
       "    <tr>\n",
       "      <th>EDUCATION</th>\n",
       "      <td>102</td>\n",
       "      <td>4.351</td>\n",
       "    </tr>\n",
       "    <tr>\n",
       "      <th>ENTERTAINMENT</th>\n",
       "      <td>79</td>\n",
       "      <td>4.111</td>\n",
       "    </tr>\n",
       "    <tr>\n",
       "      <th>EVENTS</th>\n",
       "      <td>64</td>\n",
       "      <td>4.436</td>\n",
       "    </tr>\n",
       "    <tr>\n",
       "      <th>FAMILY</th>\n",
       "      <td>1906</td>\n",
       "      <td>4.187</td>\n",
       "    </tr>\n",
       "    <tr>\n",
       "      <th>FINANCE</th>\n",
       "      <td>345</td>\n",
       "      <td>4.116</td>\n",
       "    </tr>\n",
       "    <tr>\n",
       "      <th>FOOD_AND_DRINK</th>\n",
       "      <td>112</td>\n",
       "      <td>4.171</td>\n",
       "    </tr>\n",
       "    <tr>\n",
       "      <th>GAME</th>\n",
       "      <td>926</td>\n",
       "      <td>4.240</td>\n",
       "    </tr>\n",
       "    <tr>\n",
       "      <th>HEALTH_AND_FITNESS</th>\n",
       "      <td>287</td>\n",
       "      <td>4.242</td>\n",
       "    </tr>\n",
       "    <tr>\n",
       "      <th>HOUSE_AND_HOME</th>\n",
       "      <td>73</td>\n",
       "      <td>4.141</td>\n",
       "    </tr>\n",
       "    <tr>\n",
       "      <th>LIBRARIES_AND_DEMO</th>\n",
       "      <td>84</td>\n",
       "      <td>4.178</td>\n",
       "    </tr>\n",
       "    <tr>\n",
       "      <th>LIFESTYLE</th>\n",
       "      <td>369</td>\n",
       "      <td>4.093</td>\n",
       "    </tr>\n",
       "    <tr>\n",
       "      <th>MAPS_AND_NAVIGATION</th>\n",
       "      <td>131</td>\n",
       "      <td>4.036</td>\n",
       "    </tr>\n",
       "    <tr>\n",
       "      <th>MEDICAL</th>\n",
       "      <td>396</td>\n",
       "      <td>4.169</td>\n",
       "    </tr>\n",
       "    <tr>\n",
       "      <th>NEWS_AND_MAGAZINES</th>\n",
       "      <td>254</td>\n",
       "      <td>4.122</td>\n",
       "    </tr>\n",
       "    <tr>\n",
       "      <th>PARENTING</th>\n",
       "      <td>60</td>\n",
       "      <td>4.300</td>\n",
       "    </tr>\n",
       "    <tr>\n",
       "      <th>PERSONALIZATION</th>\n",
       "      <td>376</td>\n",
       "      <td>4.332</td>\n",
       "    </tr>\n",
       "    <tr>\n",
       "      <th>PHOTOGRAPHY</th>\n",
       "      <td>281</td>\n",
       "      <td>4.156</td>\n",
       "    </tr>\n",
       "    <tr>\n",
       "      <th>PRODUCTIVITY</th>\n",
       "      <td>374</td>\n",
       "      <td>4.183</td>\n",
       "    </tr>\n",
       "    <tr>\n",
       "      <th>SHOPPING</th>\n",
       "      <td>202</td>\n",
       "      <td>4.231</td>\n",
       "    </tr>\n",
       "    <tr>\n",
       "      <th>SOCIAL</th>\n",
       "      <td>239</td>\n",
       "      <td>4.247</td>\n",
       "    </tr>\n",
       "    <tr>\n",
       "      <th>SPORTS</th>\n",
       "      <td>327</td>\n",
       "      <td>4.219</td>\n",
       "    </tr>\n",
       "    <tr>\n",
       "      <th>TOOLS</th>\n",
       "      <td>829</td>\n",
       "      <td>4.040</td>\n",
       "    </tr>\n",
       "    <tr>\n",
       "      <th>TRAVEL_AND_LOCAL</th>\n",
       "      <td>219</td>\n",
       "      <td>4.070</td>\n",
       "    </tr>\n",
       "    <tr>\n",
       "      <th>VIDEO_PLAYERS</th>\n",
       "      <td>163</td>\n",
       "      <td>4.043</td>\n",
       "    </tr>\n",
       "    <tr>\n",
       "      <th>WEATHER</th>\n",
       "      <td>79</td>\n",
       "      <td>4.243</td>\n",
       "    </tr>\n",
       "  </tbody>\n",
       "</table>\n",
       "</div>"
      ],
      "text/plain": [
       "                     Category  Rating\n",
       "Category                             \n",
       "1.9                         1  19.000\n",
       "ART_AND_DESIGN             61   4.359\n",
       "AUTO_AND_VEHICLES          85   4.190\n",
       "BEAUTY                     53   4.279\n",
       "BOOKS_AND_REFERENCE       222   4.345\n",
       "BUSINESS                  419   4.097\n",
       "COMICS                     56   4.181\n",
       "COMMUNICATION             316   4.121\n",
       "DATING                    170   3.980\n",
       "EDUCATION                 102   4.351\n",
       "ENTERTAINMENT              79   4.111\n",
       "EVENTS                     64   4.436\n",
       "FAMILY                   1906   4.187\n",
       "FINANCE                   345   4.116\n",
       "FOOD_AND_DRINK            112   4.171\n",
       "GAME                      926   4.240\n",
       "HEALTH_AND_FITNESS        287   4.242\n",
       "HOUSE_AND_HOME             73   4.141\n",
       "LIBRARIES_AND_DEMO         84   4.178\n",
       "LIFESTYLE                 369   4.093\n",
       "MAPS_AND_NAVIGATION       131   4.036\n",
       "MEDICAL                   396   4.169\n",
       "NEWS_AND_MAGAZINES        254   4.122\n",
       "PARENTING                  60   4.300\n",
       "PERSONALIZATION           376   4.332\n",
       "PHOTOGRAPHY               281   4.156\n",
       "PRODUCTIVITY              374   4.183\n",
       "SHOPPING                  202   4.231\n",
       "SOCIAL                    239   4.247\n",
       "SPORTS                    327   4.219\n",
       "TOOLS                     829   4.040\n",
       "TRAVEL_AND_LOCAL          219   4.070\n",
       "VIDEO_PLAYERS             163   4.043\n",
       "WEATHER                    79   4.243"
      ]
     },
     "execution_count": 157,
     "metadata": {},
     "output_type": "execute_result"
    }
   ],
   "source": [
    "playstore_df_3 = playstore_df_2.groupby('Category').agg({'Category' : 'count',\n",
    "                                                         'Rating' : 'mean'})\n",
    "playstore_df_3"
   ]
  },
  {
   "cell_type": "markdown",
   "metadata": {},
   "source": [
    "# Visualizing the dataset"
   ]
  },
  {
   "cell_type": "code",
   "execution_count": 497,
   "metadata": {},
   "outputs": [],
   "source": [
    "# Convert `reviews` and `price` to numeric"
   ]
  },
  {
   "cell_type": "code",
   "execution_count": 189,
   "metadata": {},
   "outputs": [],
   "source": [
    "merge_playstore[[\"Price\", \"Reviews\"]] = merge_playstore[[\"Price\", \"Reviews\"]].apply(pd.to_numeric)"
   ]
  },
  {
   "cell_type": "markdown",
   "metadata": {},
   "source": [
    "# Rating vs Category"
   ]
  },
  {
   "cell_type": "code",
   "execution_count": 235,
   "metadata": {},
   "outputs": [
    {
     "data": {
      "image/png": "[encoded data removed]",
      "text/plain": [
       "<Figure size 720x576 with 1 Axes>"
      ]
     },
     "metadata": {
      "needs_background": "light"
     },
     "output_type": "display_data"
    }
   ],
   "source": [
    "g=merge_playstore.groupby(\"Category\",as_index=False).mean()[['Category','Rating']].sort_values('Rating',ascending=0).head(10)\n",
    "plt.figure(figsize=(10,8))\n",
    "\n",
    "sns.barplot(x='Rating',y='Category',data=g,color=\"teal\")\n",
    "plt.title(\"Avg. Rating for top 10  Category\")\n",
    "plt.xlabel('Avg. Rating')\n",
    "plt.ylabel('Category');"
   ]
  },
  {
   "cell_type": "markdown",
   "metadata": {},
   "source": [
    "# App Count vs Category"
   ]
  },
  {
   "cell_type": "code",
   "execution_count": 236,
   "metadata": {},
   "outputs": [
    {
     "data": {
      "image/png": "[encoded data removed]",
      "text/plain": [
       "<Figure size 720x576 with 1 Axes>"
      ]
     },
     "metadata": {
      "needs_background": "light"
     },
     "output_type": "display_data"
    }
   ],
   "source": [
    "g=merge_playstore.groupby(\"Category\",as_index=False).count()[['Category','App']].sort_values('App',ascending=0).head(10)\n",
    "plt.figure(figsize=(10,8))\n",
    "\n",
    "sns.barplot(x='App',y='Category',data=g,color=\"teal\")\n",
    "plt.title(\"# of Apps for top 10 Category\")\n",
    "plt.xlabel('# of Apps')\n",
    "plt.ylabel('Category');"
   ]
  },
  {
   "cell_type": "markdown",
   "metadata": {},
   "source": [
    "# Price vs Category"
   ]
  },
  {
   "cell_type": "code",
   "execution_count": 237,
   "metadata": {},
   "outputs": [
    {
     "data": {
      "image/png": "[encoded data removed]",
      "text/plain": [
       "<Figure size 720x360 with 1 Axes>"
      ]
     },
     "metadata": {
      "needs_background": "light"
     },
     "output_type": "display_data"
    }
   ],
   "source": [
    "g=merge_playstore.groupby(\"Category\",as_index=False).sum()[['Category','Price']].sort_values('Price',ascending=0).head()\n",
    "plt.figure(figsize=(10,5))\n",
    "\n",
    "sns.barplot(x='Price',y='Category',data=g,color=\"teal\")\n",
    "plt.title(\"Total price for top 5 Category\")\n",
    "plt.xlabel('Price')\n",
    "plt.ylabel('Category');\n",
    "\n"
   ]
  },
  {
   "cell_type": "markdown",
   "metadata": {},
   "source": [
    "# Reviews vs Category"
   ]
  },
  {
   "cell_type": "code",
   "execution_count": 238,
   "metadata": {},
   "outputs": [
    {
     "data": {
      "image/png": "[encoded data removed]",
      "text/plain": [
       "<Figure size 720x576 with 1 Axes>"
      ]
     },
     "metadata": {
      "needs_background": "light"
     },
     "output_type": "display_data"
    }
   ],
   "source": [
    "g=merge_playstore.groupby(\"Category\",as_index=False).sum()[['Category','Reviews']].sort_values('Reviews',ascending=0).head(10)\n",
    "plt.figure(figsize=(10,8))\n",
    "\n",
    "sns.barplot(x='Reviews',y='Category',data=g,color=\"teal\")\n",
    "plt.title(\"Total reviews for top 10 Category\")\n",
    "plt.xlabel('Total reviews')\n",
    "plt.ylabel('Category');"
   ]
  },
  {
   "cell_type": "markdown",
   "metadata": {},
   "source": [
    "# Reviews vs Genres"
   ]
  },
  {
   "cell_type": "code",
   "execution_count": 239,
   "metadata": {},
   "outputs": [
    {
     "data": {
      "image/png": "[encoded data removed]",
      "text/plain": [
       "<Figure size 720x576 with 1 Axes>"
      ]
     },
     "metadata": {
      "needs_background": "light"
     },
     "output_type": "display_data"
    }
   ],
   "source": [
    "g=merge_playstore.groupby(\"Genres\",as_index=False).sum()[['Genres','Reviews']].sort_values('Reviews',ascending=0).head(10)\n",
    "plt.figure(figsize=(10,8))\n",
    "\n",
    "sns.barplot(x='Reviews',y='Genres',data=g,color=\"teal\")\n",
    "plt.title(\"Total reviews for top 10 Genres\")\n",
    "plt.xlabel('Total reviews')\n",
    "plt.ylabel('Genres');"
   ]
  },
  {
   "cell_type": "markdown",
   "metadata": {},
   "source": [
    "# App count vs Genres"
   ]
  },
  {
   "cell_type": "code",
   "execution_count": 240,
   "metadata": {},
   "outputs": [
    {
     "data": {
      "image/png": "[encoded data removed]",
      "text/plain": [
       "<Figure size 720x576 with 1 Axes>"
      ]
     },
     "metadata": {
      "needs_background": "light"
     },
     "output_type": "display_data"
    }
   ],
   "source": [
    "g=merge_playstore.groupby(\"Genres\",as_index=False).count()[['Genres','App']].sort_values('App',ascending=0).head(10)\n",
    "plt.figure(figsize=(10,8))\n",
    "\n",
    "sns.barplot(x='App',y='Genres',data=g,color=\"teal\")\n",
    "plt.title(\"# of Apps for top 10 Genres\")\n",
    "plt.xlabel('# of Apps')\n",
    "plt.ylabel('Genres');"
   ]
  },
  {
   "cell_type": "markdown",
   "metadata": {},
   "source": [
    "# Modelling"
   ]
  },
  {
   "cell_type": "code",
   "execution_count": 476,
   "metadata": {},
   "outputs": [],
   "source": [
    "def series_func(row):\n",
    "    val = (row['Sentiment_Polarity'])\n",
    "    if val > 0:\n",
    "        Sentiment_Classifier = 1\n",
    "    else:\n",
    "        Sentiment_Classifier = 0\n",
    "    return Sentiment_Classifier\n",
    "\n",
    "merge_playstore['Sentiment_Classifier']=merge_playstore.apply(series_func,axis=1)"
   ]
  },
  {
   "cell_type": "markdown",
   "metadata": {},
   "source": [
    "# Model 1 : Using variables `Reviews`"
   ]
  },
  {
   "cell_type": "code",
   "execution_count": 477,
   "metadata": {},
   "outputs": [],
   "source": [
    "merge_playstore1=merge_playstore.dropna(axis=0, how='any')"
   ]
  },
  {
   "cell_type": "markdown",
   "metadata": {},
   "source": [
    "**Step1:** Define assymetric cost for misclassification<br />\n",
    "**Step2:** Then split the data into test and validation<br />\n",
    "**Step3:** Build the model and assess the performance"
   ]
  },
  {
   "cell_type": "code",
   "execution_count": 478,
   "metadata": {},
   "outputs": [],
   "source": [
    "logreg = LogisticRegression(class_weight={0:3,1:1})"
   ]
  },
  {
   "cell_type": "code",
   "execution_count": 479,
   "metadata": {},
   "outputs": [],
   "source": [
    "X=merge_playstore1[['Reviews']]\n",
    "y=merge_playstore1['Sentiment_Classifier']\n",
    "\n",
    "Xtrain, Xtest, ytrain, ytest = train_test_split(X, y, random_state=123)"
   ]
  },
  {
   "cell_type": "code",
   "execution_count": 480,
   "metadata": {},
   "outputs": [
    {
     "name": "stderr",
     "output_type": "stream",
     "text": [
      "C:\\Users\\kaustubh_14\\Anaconda3\\lib\\site-packages\\sklearn\\linear_model\\logistic.py:432: FutureWarning: Default solver will be changed to 'lbfgs' in 0.22. Specify a solver to silence this warning.\n",
      "  FutureWarning)\n"
     ]
    },
    {
     "data": {
      "text/plain": [
       "array([[  1,  24],\n",
       "       [  6, 173]], dtype=int64)"
      ]
     },
     "execution_count": 480,
     "metadata": {},
     "output_type": "execute_result"
    }
   ],
   "source": [
    "logreg.fit(Xtrain,ytrain)\n",
    "y_pred=logreg.predict(Xtest)\n",
    "cnf_matrix = metrics.confusion_matrix(ytest, y_pred)\n",
    "cnf_matrix"
   ]
  },
  {
   "cell_type": "code",
   "execution_count": 481,
   "metadata": {},
   "outputs": [
    {
     "data": {
      "text/plain": [
       "Text(0.5, 257.44, 'Predicted label')"
      ]
     },
     "execution_count": 481,
     "metadata": {},
     "output_type": "execute_result"
    },
    {
     "data": {
      "image/png": "[encoded data removed]",
      "text/plain": [
       "<Figure size 432x288 with 2 Axes>"
      ]
     },
     "metadata": {
      "needs_background": "light"
     },
     "output_type": "display_data"
    }
   ],
   "source": [
    "class_names=[0,1] # name  of classes\n",
    "fig, ax = plt.subplots()\n",
    "tick_marks = np.arange(len(class_names))\n",
    "plt.xticks(tick_marks, class_names)\n",
    "plt.yticks(tick_marks, class_names)\n",
    "# create heatmap\n",
    "sns.heatmap(pd.DataFrame(cnf_matrix), annot=True, cmap=\"YlGnBu\" ,fmt='g')\n",
    "ax.xaxis.set_label_position(\"top\")\n",
    "plt.tight_layout()\n",
    "plt.title('Confusion matrix', y=1.1)\n",
    "plt.ylabel('Actual label')\n",
    "plt.xlabel('Predicted label')"
   ]
  },
  {
   "cell_type": "code",
   "execution_count": 482,
   "metadata": {},
   "outputs": [
    {
     "name": "stdout",
     "output_type": "stream",
     "text": [
      "Accuracy: 0.8529411764705882\n",
      "Precision: 0.8781725888324873\n",
      "Recall: 0.9664804469273743\n",
      "MR: 0.12254901960784313\n"
     ]
    }
   ],
   "source": [
    "print(\"Accuracy:\",metrics.accuracy_score(ytest, y_pred))\n",
    "print(\"Precision:\",metrics.precision_score(ytest, y_pred))\n",
    "print(\"Recall:\",metrics.recall_score(ytest, y_pred))\n",
    "print(\"MR:\",(ytest!=y_score).mean())"
   ]
  },
  {
   "cell_type": "markdown",
   "metadata": {},
   "source": [
    "# Model 2 : Using variables `type`, `Category` and `Reviews`"
   ]
  },
  {
   "cell_type": "code",
   "execution_count": 469,
   "metadata": {},
   "outputs": [],
   "source": [
    "merge_playstore1=merge_playstore.dropna(axis=0, how='any')"
   ]
  },
  {
   "cell_type": "code",
   "execution_count": 470,
   "metadata": {},
   "outputs": [],
   "source": [
    "logreg = LogisticRegression(class_weight={0:3,1:1})"
   ]
  },
  {
   "cell_type": "code",
   "execution_count": 471,
   "metadata": {},
   "outputs": [
    {
     "data": {
      "text/plain": [
       "array(['App', 'Rating', 'Reviews', 'Size', 'Installs', 'Price',\n",
       "       'Content Rating', 'Genres', 'Last Updated', 'Current Ver',\n",
       "       'Android Ver', 'Sentiment_Polarity', 'Sentiment_Classifier',\n",
       "       'Type_Free', 'Type_Paid', 'Category_ART_AND_DESIGN',\n",
       "       'Category_AUTO_AND_VEHICLES', 'Category_BEAUTY',\n",
       "       'Category_BOOKS_AND_REFERENCE', 'Category_BUSINESS',\n",
       "       'Category_COMICS', 'Category_COMMUNICATION', 'Category_DATING',\n",
       "       'Category_EDUCATION', 'Category_ENTERTAINMENT', 'Category_EVENTS',\n",
       "       'Category_FAMILY', 'Category_FINANCE', 'Category_FOOD_AND_DRINK',\n",
       "       'Category_GAME', 'Category_HEALTH_AND_FITNESS',\n",
       "       'Category_HOUSE_AND_HOME', 'Category_LIBRARIES_AND_DEMO',\n",
       "       'Category_LIFESTYLE', 'Category_MAPS_AND_NAVIGATION',\n",
       "       'Category_MEDICAL', 'Category_NEWS_AND_MAGAZINES',\n",
       "       'Category_PARENTING', 'Category_PERSONALIZATION',\n",
       "       'Category_PHOTOGRAPHY', 'Category_PRODUCTIVITY',\n",
       "       'Category_SHOPPING', 'Category_SOCIAL', 'Category_SPORTS',\n",
       "       'Category_TOOLS', 'Category_TRAVEL_AND_LOCAL',\n",
       "       'Category_VIDEO_PLAYERS', 'Category_WEATHER'], dtype=object)"
      ]
     },
     "execution_count": 471,
     "metadata": {},
     "output_type": "execute_result"
    }
   ],
   "source": [
    "merge_playstore1=merge_playstore.dropna(axis=0, how='any')\n",
    "cat_vars=['Type','Category']\n",
    "for var in cat_vars:\n",
    "    cat_list='var'+'_'+var\n",
    "    cat_list = pd.get_dummies(merge_playstore1[var], prefix=var)\n",
    "    merge_playstore2=merge_playstore1.join(cat_list)\n",
    "    merge_playstore1=merge_playstore2\n",
    "cat_vars=['Type','Category']\n",
    "data_vars=merge_playstore1.columns.values.tolist()\n",
    "to_keep=[i for i in data_vars if i not in cat_vars]\n",
    "\n",
    "data_final=merge_playstore1[to_keep]\n",
    "data_final.columns.values"
   ]
  },
  {
   "cell_type": "code",
   "execution_count": 472,
   "metadata": {},
   "outputs": [],
   "source": [
    "X=merge_playstore1[['Reviews','Type_Free', 'Type_Paid', 'Category_ART_AND_DESIGN',\n",
    "       'Category_AUTO_AND_VEHICLES', 'Category_BEAUTY',\n",
    "       'Category_BOOKS_AND_REFERENCE', 'Category_BUSINESS',\n",
    "       'Category_COMICS', 'Category_COMMUNICATION', 'Category_DATING',\n",
    "       'Category_EDUCATION', 'Category_ENTERTAINMENT', 'Category_EVENTS',\n",
    "       'Category_FAMILY', 'Category_FINANCE', 'Category_FOOD_AND_DRINK',\n",
    "       'Category_GAME', 'Category_HEALTH_AND_FITNESS',\n",
    "       'Category_HOUSE_AND_HOME', 'Category_LIBRARIES_AND_DEMO',\n",
    "       'Category_LIFESTYLE', 'Category_MAPS_AND_NAVIGATION',\n",
    "       'Category_MEDICAL', 'Category_NEWS_AND_MAGAZINES',\n",
    "       'Category_PARENTING', 'Category_PERSONALIZATION',\n",
    "       'Category_PHOTOGRAPHY', 'Category_PRODUCTIVITY',\n",
    "       'Category_SHOPPING', 'Category_SOCIAL', 'Category_SPORTS',\n",
    "       'Category_TOOLS', 'Category_TRAVEL_AND_LOCAL',\n",
    "       'Category_VIDEO_PLAYERS', 'Category_WEATHER']]\n",
    "y=merge_playstore1['Sentiment_Classifier']\n",
    "\n",
    "Xtrain, Xtest, ytrain, ytest = train_test_split(X, y, random_state=123)"
   ]
  },
  {
   "cell_type": "code",
   "execution_count": 473,
   "metadata": {},
   "outputs": [
    {
     "name": "stderr",
     "output_type": "stream",
     "text": [
      "C:\\Users\\kaustubh_14\\Anaconda3\\lib\\site-packages\\sklearn\\linear_model\\logistic.py:432: FutureWarning: Default solver will be changed to 'lbfgs' in 0.22. Specify a solver to silence this warning.\n",
      "  FutureWarning)\n"
     ]
    },
    {
     "data": {
      "text/plain": [
       "array([[  0,  25],\n",
       "       [  2, 177]], dtype=int64)"
      ]
     },
     "execution_count": 473,
     "metadata": {},
     "output_type": "execute_result"
    }
   ],
   "source": [
    "logreg.fit(Xtrain,ytrain)\n",
    "y_pred=logreg.predict(Xtest)\n",
    "cnf_matrix = metrics.confusion_matrix(ytest, y_pred)\n",
    "cnf_matrix"
   ]
  },
  {
   "cell_type": "code",
   "execution_count": 474,
   "metadata": {},
   "outputs": [
    {
     "data": {
      "text/plain": [
       "Text(0.5, 257.44, 'Predicted label')"
      ]
     },
     "execution_count": 474,
     "metadata": {},
     "output_type": "execute_result"
    },
    {
     "data": {
      "image/png": "[encoded data removed]",
      "text/plain": [
       "<Figure size 432x288 with 2 Axes>"
      ]
     },
     "metadata": {
      "needs_background": "light"
     },
     "output_type": "display_data"
    }
   ],
   "source": [
    "class_names=[0,1] # name  of classes\n",
    "fig, ax = plt.subplots()\n",
    "tick_marks = np.arange(len(class_names))\n",
    "plt.xticks(tick_marks, class_names)\n",
    "plt.yticks(tick_marks, class_names)\n",
    "# create heatmap\n",
    "sns.heatmap(pd.DataFrame(cnf_matrix), annot=True, cmap=\"YlGnBu\" ,fmt='g')\n",
    "ax.xaxis.set_label_position(\"top\")\n",
    "plt.tight_layout()\n",
    "plt.title('Confusion matrix', y=1.1)\n",
    "plt.ylabel('Actual label')\n",
    "plt.xlabel('Predicted label')"
   ]
  },
  {
   "cell_type": "code",
   "execution_count": 475,
   "metadata": {},
   "outputs": [
    {
     "name": "stdout",
     "output_type": "stream",
     "text": [
      "Accuracy: 0.8676470588235294\n",
      "Precision: 0.8762376237623762\n",
      "Recall: 0.9888268156424581\n",
      "MR: 0.12254901960784313\n"
     ]
    }
   ],
   "source": [
    "print(\"Accuracy:\",metrics.accuracy_score(ytest, y_pred))\n",
    "print(\"Precision:\",metrics.precision_score(ytest, y_pred))\n",
    "print(\"Recall:\",metrics.recall_score(ytest, y_pred))\n",
    "print(\"MR:\",(ytest!=y_score).mean())"
   ]
  },
  {
   "cell_type": "markdown",
   "metadata": {},
   "source": [
    "# Model 3 : Using variables `type`, `Genres` and `Reviews`"
   ]
  },
  {
   "cell_type": "code",
   "execution_count": null,
   "metadata": {},
   "outputs": [],
   "source": [
    "merge_playstore1=merge_playstore.dropna(axis=0, how='any')"
   ]
  },
  {
   "cell_type": "code",
   "execution_count": 463,
   "metadata": {},
   "outputs": [],
   "source": [
    "logreg = LogisticRegression(class_weight={0:3,1:1})"
   ]
  },
  {
   "cell_type": "code",
   "execution_count": 464,
   "metadata": {},
   "outputs": [
    {
     "data": {
      "text/plain": [
       "array(['App', 'Category', 'Rating', 'Reviews', 'Size', 'Installs',\n",
       "       'Price', 'Content Rating', 'Last Updated', 'Current Ver',\n",
       "       'Android Ver', 'Sentiment_Polarity', 'Sentiment_Classifier',\n",
       "       'Type_Free', 'Type_Paid', 'Genres_Action',\n",
       "       'Genres_Action;Action & Adventure', 'Genres_Adventure',\n",
       "       'Genres_Arcade', 'Genres_Art & Design',\n",
       "       'Genres_Art & Design;Creativity',\n",
       "       'Genres_Art & Design;Pretend Play', 'Genres_Auto & Vehicles',\n",
       "       'Genres_Beauty', 'Genres_Board', 'Genres_Board;Brain Games',\n",
       "       'Genres_Books & Reference', 'Genres_Business', 'Genres_Casual',\n",
       "       'Genres_Casual;Action & Adventure', 'Genres_Casual;Brain Games',\n",
       "       'Genres_Casual;Creativity', 'Genres_Casual;Pretend Play',\n",
       "       'Genres_Comics', 'Genres_Communication', 'Genres_Dating',\n",
       "       'Genres_Education', 'Genres_Education;Education',\n",
       "       'Genres_Education;Pretend Play', 'Genres_Educational;Brain Games',\n",
       "       'Genres_Educational;Creativity', 'Genres_Educational;Education',\n",
       "       'Genres_Educational;Pretend Play', 'Genres_Entertainment',\n",
       "       'Genres_Entertainment;Music & Video', 'Genres_Events',\n",
       "       'Genres_Finance', 'Genres_Food & Drink', 'Genres_Health & Fitness',\n",
       "       'Genres_House & Home', 'Genres_Libraries & Demo',\n",
       "       'Genres_Lifestyle', 'Genres_Maps & Navigation', 'Genres_Medical',\n",
       "       'Genres_News & Magazines', 'Genres_Parenting',\n",
       "       'Genres_Parenting;Education', 'Genres_Parenting;Music & Video',\n",
       "       'Genres_Personalization', 'Genres_Photography',\n",
       "       'Genres_Productivity', 'Genres_Puzzle',\n",
       "       'Genres_Puzzle;Action & Adventure', 'Genres_Racing',\n",
       "       'Genres_Racing;Action & Adventure', 'Genres_Role Playing',\n",
       "       'Genres_Role Playing;Action & Adventure',\n",
       "       'Genres_Role Playing;Pretend Play', 'Genres_Shopping',\n",
       "       'Genres_Simulation', 'Genres_Simulation;Action & Adventure',\n",
       "       'Genres_Simulation;Education', 'Genres_Simulation;Pretend Play',\n",
       "       'Genres_Social', 'Genres_Sports',\n",
       "       'Genres_Sports;Action & Adventure', 'Genres_Strategy',\n",
       "       'Genres_Tools', 'Genres_Travel & Local',\n",
       "       'Genres_Travel & Local;Action & Adventure',\n",
       "       'Genres_Video Players & Editors', 'Genres_Weather'], dtype=object)"
      ]
     },
     "execution_count": 464,
     "metadata": {},
     "output_type": "execute_result"
    }
   ],
   "source": [
    "merge_playstore1=merge_playstore.dropna(axis=0, how='any')\n",
    "cat_vars=['Type','Genres']\n",
    "for var in cat_vars:\n",
    "    cat_list='var'+'_'+var\n",
    "    cat_list = pd.get_dummies(merge_playstore1[var], prefix=var)\n",
    "    merge_playstore2=merge_playstore1.join(cat_list)\n",
    "    merge_playstore1=merge_playstore2\n",
    "cat_vars=['Type','Genres']\n",
    "data_vars=merge_playstore1.columns.values.tolist()\n",
    "to_keep=[i for i in data_vars if i not in cat_vars]\n",
    "\n",
    "data_final=merge_playstore1[to_keep]\n",
    "data_final.columns.values"
   ]
  },
  {
   "cell_type": "code",
   "execution_count": 465,
   "metadata": {},
   "outputs": [],
   "source": [
    "X=merge_playstore1[['Reviews','Type_Free', 'Type_Paid', 'Genres_Action',\n",
    "       'Genres_Action;Action & Adventure', 'Genres_Adventure',\n",
    "       'Genres_Arcade', 'Genres_Art & Design',\n",
    "       'Genres_Art & Design;Creativity',\n",
    "       'Genres_Art & Design;Pretend Play', 'Genres_Auto & Vehicles',\n",
    "       'Genres_Beauty', 'Genres_Board', 'Genres_Board;Brain Games',\n",
    "       'Genres_Books & Reference', 'Genres_Business', 'Genres_Casual',\n",
    "       'Genres_Casual;Action & Adventure', 'Genres_Casual;Brain Games',\n",
    "       'Genres_Casual;Creativity', 'Genres_Casual;Pretend Play',\n",
    "       'Genres_Comics', 'Genres_Communication', 'Genres_Dating',\n",
    "       'Genres_Education', 'Genres_Education;Education',\n",
    "       'Genres_Education;Pretend Play', 'Genres_Educational;Brain Games',\n",
    "       'Genres_Educational;Creativity', 'Genres_Educational;Education',\n",
    "       'Genres_Educational;Pretend Play', 'Genres_Entertainment',\n",
    "       'Genres_Entertainment;Music & Video', 'Genres_Events',\n",
    "       'Genres_Finance', 'Genres_Food & Drink', 'Genres_Health & Fitness',\n",
    "       'Genres_House & Home', 'Genres_Libraries & Demo',\n",
    "       'Genres_Lifestyle', 'Genres_Maps & Navigation', 'Genres_Medical',\n",
    "       'Genres_News & Magazines', 'Genres_Parenting',\n",
    "       'Genres_Parenting;Education', 'Genres_Parenting;Music & Video',\n",
    "       'Genres_Personalization', 'Genres_Photography',\n",
    "       'Genres_Productivity', 'Genres_Puzzle',\n",
    "       'Genres_Puzzle;Action & Adventure', 'Genres_Racing',\n",
    "       'Genres_Racing;Action & Adventure', 'Genres_Role Playing',\n",
    "       'Genres_Role Playing;Action & Adventure',\n",
    "       'Genres_Role Playing;Pretend Play', 'Genres_Shopping',\n",
    "       'Genres_Simulation', 'Genres_Simulation;Action & Adventure',\n",
    "       'Genres_Simulation;Education', 'Genres_Simulation;Pretend Play',\n",
    "       'Genres_Social', 'Genres_Sports',\n",
    "       'Genres_Sports;Action & Adventure', 'Genres_Strategy',\n",
    "       'Genres_Tools', 'Genres_Travel & Local',\n",
    "       'Genres_Travel & Local;Action & Adventure',\n",
    "       'Genres_Video Players & Editors', 'Genres_Weather']]\n",
    "y=merge_playstore1['Sentiment_Classifier']\n",
    "\n",
    "Xtrain, Xtest, ytrain, ytest = train_test_split(X, y, random_state=123)"
   ]
  },
  {
   "cell_type": "code",
   "execution_count": 466,
   "metadata": {},
   "outputs": [
    {
     "name": "stderr",
     "output_type": "stream",
     "text": [
      "C:\\Users\\kaustubh_14\\Anaconda3\\lib\\site-packages\\sklearn\\linear_model\\logistic.py:432: FutureWarning: Default solver will be changed to 'lbfgs' in 0.22. Specify a solver to silence this warning.\n",
      "  FutureWarning)\n"
     ]
    },
    {
     "data": {
      "text/plain": [
       "array([[  0,  25],\n",
       "       [  2, 177]], dtype=int64)"
      ]
     },
     "execution_count": 466,
     "metadata": {},
     "output_type": "execute_result"
    }
   ],
   "source": [
    "logreg.fit(Xtrain,ytrain)\n",
    "y_pred=logreg.predict(Xtest)\n",
    "cnf_matrix = metrics.confusion_matrix(ytest, y_pred)\n",
    "cnf_matrix"
   ]
  },
  {
   "cell_type": "code",
   "execution_count": 462,
   "metadata": {},
   "outputs": [
    {
     "data": {
      "text/plain": [
       "Text(0.5, 257.44, 'Predicted label')"
      ]
     },
     "execution_count": 462,
     "metadata": {},
     "output_type": "execute_result"
    },
    {
     "data": {
      "image/png": "[encoded data removed]",
      "text/plain": [
       "<Figure size 432x288 with 2 Axes>"
      ]
     },
     "metadata": {
      "needs_background": "light"
     },
     "output_type": "display_data"
    }
   ],
   "source": [
    "class_names=[0,1] # name  of classes\n",
    "fig, ax = plt.subplots()\n",
    "tick_marks = np.arange(len(class_names))\n",
    "plt.xticks(tick_marks, class_names)\n",
    "plt.yticks(tick_marks, class_names)\n",
    "# create heatmap\n",
    "sns.heatmap(pd.DataFrame(cnf_matrix), annot=True, cmap=\"YlGnBu\" ,fmt='g')\n",
    "ax.xaxis.set_label_position(\"top\")\n",
    "plt.tight_layout()\n",
    "plt.title('Confusion matrix', y=1.1)\n",
    "plt.ylabel('Actual label')\n",
    "plt.xlabel('Predicted label')"
   ]
  },
  {
   "cell_type": "code",
   "execution_count": 468,
   "metadata": {},
   "outputs": [
    {
     "name": "stdout",
     "output_type": "stream",
     "text": [
      "Accuracy: 0.8676470588235294\n",
      "Precision: 0.8762376237623762\n",
      "Recall: 0.9888268156424581\n",
      "MR: 0.12254901960784313\n"
     ]
    }
   ],
   "source": [
    "print(\"Accuracy:\",metrics.accuracy_score(ytest, y_pred))\n",
    "print(\"Precision:\",metrics.precision_score(ytest, y_pred))\n",
    "print(\"Recall:\",metrics.recall_score(ytest, y_pred))\n",
    "print(\"MR:\",(ytest!=y_score).mean())"
   ]
  }
 ],
 "metadata": {
  "kernelspec": {
   "display_name": "Python 3",
   "language": "python",
   "name": "python3"
  },
  "language_info": {
   "codemirror_mode": {
    "name": "ipython",
    "version": 3
   },
   "file_extension": ".py",
   "mimetype": "text/x-python",
   "name": "python",
   "nbconvert_exporter": "python",
   "pygments_lexer": "ipython3",
   "version": "3.7.3"
  }
 },
 "nbformat": 4,
 "nbformat_minor": 4
}
